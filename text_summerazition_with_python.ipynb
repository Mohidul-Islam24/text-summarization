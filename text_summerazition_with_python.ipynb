{
  "nbformat": 4,
  "nbformat_minor": 0,
  "metadata": {
    "colab": {
      "name": "text_summerazition_with_python.ipynb",
      "provenance": []
    },
    "kernelspec": {
      "name": "python3",
      "display_name": "Python 3"
    }
  },
  "cells": [
    {
      "cell_type": "code",
      "metadata": {
        "id": "xhVW7SnrQDOG"
      },
      "source": [
        "text = \"\"\"\r\n",
        "There are broadly two types of extractive summarization tasks depending on what the summarization program focuses on. The first is generic summarization, which focuses on obtaining a generic summary or abstract of the collection (whether documents, or sets of images, or videos, news stories etc.). The second is query relevant summarization, sometimes called query-based summarization, which summarizes objects specific to a query. Summarization systems are able to create both query relevant text summaries and generic machine-generated summaries depending on what the user needs.\r\n",
        "An example of a summarization problem is document summarization, which attempts to automatically produce an abstract from a given document. Sometimes one might be interested in generating a summary from a single source document, while others can use multiple source documents (for example, a cluster of articles on the same topic). This problem is called multi-document summarization. A related application is summarizing news articles. Imagine a system, which automatically pulls together news articles on a given topic (from the web), and concisely represents the latest news as a summary.\r\n",
        "Image collection summarization is another application example of automatic summarization. It consists in selecting a representative set of images from a larger set of images.[3] A summary in this context is useful to show the most representative images of results in an image collection exploration system. Video summarization is a related domain, where the system automatically creates a trailer of a long video. This also has applications in consumer or personal videos, where one might want to skip the boring or repetitive actions. Similarly, in surveillance videos, one would want to extract important and suspicious activity, while ignoring all the boring and redundant frames captured.\r\n",
        "\"\"\""
      ],
      "execution_count": 1,
      "outputs": []
    },
    {
      "cell_type": "code",
      "metadata": {
        "colab": {
          "base_uri": "https://localhost:8080/",
          "height": 103
        },
        "id": "PkStsI7zQLp9",
        "outputId": "25eba8d4-1385-4c9c-9acf-d0a09a49f40a"
      },
      "source": [
        "text"
      ],
      "execution_count": 2,
      "outputs": [
        {
          "output_type": "execute_result",
          "data": {
            "application/vnd.google.colaboratory.intrinsic+json": {
              "type": "string"
            },
            "text/plain": [
              "'\\nThere are broadly two types of extractive summarization tasks depending on what the summarization program focuses on. The first is generic summarization, which focuses on obtaining a generic summary or abstract of the collection (whether documents, or sets of images, or videos, news stories etc.). The second is query relevant summarization, sometimes called query-based summarization, which summarizes objects specific to a query. Summarization systems are able to create both query relevant text summaries and generic machine-generated summaries depending on what the user needs.\\nAn example of a summarization problem is document summarization, which attempts to automatically produce an abstract from a given document. Sometimes one might be interested in generating a summary from a single source document, while others can use multiple source documents (for example, a cluster of articles on the same topic). This problem is called multi-document summarization. A related application is summarizing news articles. Imagine a system, which automatically pulls together news articles on a given topic (from the web), and concisely represents the latest news as a summary.\\nImage collection summarization is another application example of automatic summarization. It consists in selecting a representative set of images from a larger set of images.[3] A summary in this context is useful to show the most representative images of results in an image collection exploration system. Video summarization is a related domain, where the system automatically creates a trailer of a long video. This also has applications in consumer or personal videos, where one might want to skip the boring or repetitive actions. Similarly, in surveillance videos, one would want to extract important and suspicious activity, while ignoring all the boring and redundant frames captured.\\n'"
            ]
          },
          "metadata": {
            "tags": []
          },
          "execution_count": 2
        }
      ]
    },
    {
      "cell_type": "code",
      "metadata": {
        "id": "NlG6QZF8QR5j"
      },
      "source": [
        "import spacy\r\n",
        "from spacy.lang.en.stop_words import STOP_WORDS\r\n",
        "from string import punctuation"
      ],
      "execution_count": 3,
      "outputs": []
    },
    {
      "cell_type": "code",
      "metadata": {
        "id": "nG8lcWz2Qak1"
      },
      "source": [
        "stopwords = list(STOP_WORDS)"
      ],
      "execution_count": 4,
      "outputs": []
    },
    {
      "cell_type": "code",
      "metadata": {
        "colab": {
          "base_uri": "https://localhost:8080/"
        },
        "id": "r0TFXIO2Qeep",
        "outputId": "8ff5aa6f-d6e7-4077-fc8d-a5b10848b2ad"
      },
      "source": [
        "stopwords"
      ],
      "execution_count": 5,
      "outputs": [
        {
          "output_type": "execute_result",
          "data": {
            "text/plain": [
              "['you',\n",
              " 'some',\n",
              " 'otherwise',\n",
              " 'why',\n",
              " 'everything',\n",
              " 'am',\n",
              " 'every',\n",
              " 'mine',\n",
              " 'someone',\n",
              " 'less',\n",
              " \"'re\",\n",
              " 'ourselves',\n",
              " 'moreover',\n",
              " 'after',\n",
              " 'latter',\n",
              " 'per',\n",
              " 'somewhere',\n",
              " 'nothing',\n",
              " 'will',\n",
              " 'well',\n",
              " 'becomes',\n",
              " 'though',\n",
              " 'up',\n",
              " 'whoever',\n",
              " 'me',\n",
              " '’ll',\n",
              " 'only',\n",
              " 'whatever',\n",
              " 'her',\n",
              " 'hundred',\n",
              " 'nobody',\n",
              " 'was',\n",
              " 'take',\n",
              " 'another',\n",
              " 'meanwhile',\n",
              " 'we',\n",
              " 'whenever',\n",
              " 'sixty',\n",
              " 'seemed',\n",
              " 'get',\n",
              " 'ten',\n",
              " \"'m\",\n",
              " 'had',\n",
              " 'afterwards',\n",
              " 'either',\n",
              " 'itself',\n",
              " 'himself',\n",
              " 'among',\n",
              " 'indeed',\n",
              " 'our',\n",
              " 'please',\n",
              " 'wherein',\n",
              " 'wherever',\n",
              " 'themselves',\n",
              " 'elsewhere',\n",
              " 'must',\n",
              " 'however',\n",
              " 'say',\n",
              " 'whereas',\n",
              " 'and',\n",
              " 'become',\n",
              " 'forty',\n",
              " 'ever',\n",
              " 'often',\n",
              " 'rather',\n",
              " 'something',\n",
              " 'various',\n",
              " 'amongst',\n",
              " 'eight',\n",
              " 'off',\n",
              " 'anything',\n",
              " 'where',\n",
              " 'full',\n",
              " 'sometime',\n",
              " 'between',\n",
              " 'mostly',\n",
              " 'whether',\n",
              " 'here',\n",
              " 'what',\n",
              " 'each',\n",
              " 'also',\n",
              " 'being',\n",
              " 'could',\n",
              " 'just',\n",
              " 'all',\n",
              " 'move',\n",
              " 'while',\n",
              " 'before',\n",
              " 'six',\n",
              " 'nor',\n",
              " 'same',\n",
              " 'as',\n",
              " 'ca',\n",
              " 'one',\n",
              " 'whereafter',\n",
              " 'else',\n",
              " 'yours',\n",
              " 'former',\n",
              " 'least',\n",
              " 'last',\n",
              " 'beyond',\n",
              " 'beforehand',\n",
              " 'empty',\n",
              " 'hereafter',\n",
              " 'seeming',\n",
              " 'still',\n",
              " 'i',\n",
              " 'enough',\n",
              " 'third',\n",
              " 'those',\n",
              " '‘ve',\n",
              " \"n't\",\n",
              " 'under',\n",
              " 'your',\n",
              " 'three',\n",
              " 'serious',\n",
              " 'against',\n",
              " 'eleven',\n",
              " 'first',\n",
              " 'yet',\n",
              " '’s',\n",
              " 'bottom',\n",
              " 'doing',\n",
              " 'this',\n",
              " 'although',\n",
              " 'at',\n",
              " 'herein',\n",
              " 'fifty',\n",
              " 'of',\n",
              " 'across',\n",
              " 'even',\n",
              " 'own',\n",
              " 'beside',\n",
              " 'then',\n",
              " 'thus',\n",
              " 'whereupon',\n",
              " 'go',\n",
              " 'during',\n",
              " 'without',\n",
              " 'yourselves',\n",
              " 'became',\n",
              " '’re',\n",
              " 'cannot',\n",
              " 'becoming',\n",
              " 'but',\n",
              " 'further',\n",
              " 'into',\n",
              " 'that',\n",
              " 'he',\n",
              " 'within',\n",
              " 'back',\n",
              " 'herself',\n",
              " 'noone',\n",
              " 'should',\n",
              " 'whither',\n",
              " 'around',\n",
              " 'down',\n",
              " 'again',\n",
              " 'both',\n",
              " 'because',\n",
              " 'above',\n",
              " 'anywhere',\n",
              " 'hence',\n",
              " 'everyone',\n",
              " 'except',\n",
              " 'see',\n",
              " '’m',\n",
              " 're',\n",
              " 'give',\n",
              " 'other',\n",
              " 'us',\n",
              " 'make',\n",
              " 'so',\n",
              " 'upon',\n",
              " 'does',\n",
              " 'n‘t',\n",
              " 'seems',\n",
              " 'several',\n",
              " 'an',\n",
              " 'put',\n",
              " 'to',\n",
              " 'any',\n",
              " 'together',\n",
              " 'which',\n",
              " 'whom',\n",
              " 'toward',\n",
              " \"'ll\",\n",
              " 'there',\n",
              " 'sometimes',\n",
              " 'a',\n",
              " 'when',\n",
              " 'n’t',\n",
              " 'namely',\n",
              " 'its',\n",
              " 'four',\n",
              " 'anyway',\n",
              " 'therein',\n",
              " 'were',\n",
              " 'the',\n",
              " 'most',\n",
              " 'out',\n",
              " 'call',\n",
              " 'if',\n",
              " 'somehow',\n",
              " 'side',\n",
              " 'due',\n",
              " 'onto',\n",
              " 'few',\n",
              " 'thru',\n",
              " 'are',\n",
              " 'on',\n",
              " 'whose',\n",
              " 'for',\n",
              " \"'s\",\n",
              " 'has',\n",
              " 'next',\n",
              " 'unless',\n",
              " 'hers',\n",
              " 'his',\n",
              " 'amount',\n",
              " 'made',\n",
              " 'nevertheless',\n",
              " \"'d\",\n",
              " 'fifteen',\n",
              " 'others',\n",
              " 'neither',\n",
              " 'anyone',\n",
              " 'seem',\n",
              " 'from',\n",
              " 'about',\n",
              " 'is',\n",
              " 'front',\n",
              " '‘d',\n",
              " 'done',\n",
              " 'thereby',\n",
              " 'anyhow',\n",
              " 'have',\n",
              " 'their',\n",
              " 'such',\n",
              " 'with',\n",
              " 'whence',\n",
              " 'hereupon',\n",
              " 'no',\n",
              " 'throughout',\n",
              " 'keep',\n",
              " 'now',\n",
              " 'thereupon',\n",
              " 'would',\n",
              " 'five',\n",
              " 'not',\n",
              " 'thence',\n",
              " \"'ve\",\n",
              " 'along',\n",
              " 'than',\n",
              " 'many',\n",
              " 'nowhere',\n",
              " '‘re',\n",
              " 'my',\n",
              " 'over',\n",
              " 'them',\n",
              " 'thereafter',\n",
              " 'two',\n",
              " 'towards',\n",
              " 'using',\n",
              " 'nine',\n",
              " 'once',\n",
              " 'behind',\n",
              " 'name',\n",
              " 'show',\n",
              " 'how',\n",
              " 'below',\n",
              " 'can',\n",
              " 'perhaps',\n",
              " 'almost',\n",
              " 'it',\n",
              " 'none',\n",
              " 'alone',\n",
              " 'really',\n",
              " 'whereby',\n",
              " 'do',\n",
              " 'formerly',\n",
              " 'in',\n",
              " 'never',\n",
              " 'therefore',\n",
              " 'may',\n",
              " 'since',\n",
              " 'more',\n",
              " 'been',\n",
              " 'very',\n",
              " 'too',\n",
              " 'did',\n",
              " 'be',\n",
              " 'whole',\n",
              " 'latterly',\n",
              " 'through',\n",
              " 'myself',\n",
              " 'twenty',\n",
              " 'quite',\n",
              " 'or',\n",
              " 'she',\n",
              " 'ours',\n",
              " 'everywhere',\n",
              " 'these',\n",
              " '‘ll',\n",
              " 'twelve',\n",
              " '’ve',\n",
              " 'who',\n",
              " 'via',\n",
              " 'hereby',\n",
              " 'always',\n",
              " 'might',\n",
              " 'until',\n",
              " 'yourself',\n",
              " '‘m',\n",
              " '‘s',\n",
              " 'by',\n",
              " 'already',\n",
              " 'regarding',\n",
              " 'part',\n",
              " 'used',\n",
              " '’d',\n",
              " 'top',\n",
              " 'besides',\n",
              " 'him',\n",
              " 'they',\n",
              " 'much']"
            ]
          },
          "metadata": {
            "tags": []
          },
          "execution_count": 5
        }
      ]
    },
    {
      "cell_type": "code",
      "metadata": {
        "id": "kMeCXGihQg_Z"
      },
      "source": [
        "nlp = spacy.load('en_core_web_sm')"
      ],
      "execution_count": 6,
      "outputs": []
    },
    {
      "cell_type": "code",
      "metadata": {
        "id": "5X_dKrisQpKG"
      },
      "source": [
        "doc = nlp(text)"
      ],
      "execution_count": 7,
      "outputs": []
    },
    {
      "cell_type": "code",
      "metadata": {
        "colab": {
          "base_uri": "https://localhost:8080/"
        },
        "id": "8R_bLRurQv0J",
        "outputId": "6e7388a6-2a8a-44a3-a951-911ab3411748"
      },
      "source": [
        "tokens = [token.text for token in doc]\r\n",
        "print(tokens)"
      ],
      "execution_count": 8,
      "outputs": [
        {
          "output_type": "stream",
          "text": [
            "['\\n', 'There', 'are', 'broadly', 'two', 'types', 'of', 'extractive', 'summarization', 'tasks', 'depending', 'on', 'what', 'the', 'summarization', 'program', 'focuses', 'on', '.', 'The', 'first', 'is', 'generic', 'summarization', ',', 'which', 'focuses', 'on', 'obtaining', 'a', 'generic', 'summary', 'or', 'abstract', 'of', 'the', 'collection', '(', 'whether', 'documents', ',', 'or', 'sets', 'of', 'images', ',', 'or', 'videos', ',', 'news', 'stories', 'etc', '.', ')', '.', 'The', 'second', 'is', 'query', 'relevant', 'summarization', ',', 'sometimes', 'called', 'query', '-', 'based', 'summarization', ',', 'which', 'summarizes', 'objects', 'specific', 'to', 'a', 'query', '.', 'Summarization', 'systems', 'are', 'able', 'to', 'create', 'both', 'query', 'relevant', 'text', 'summaries', 'and', 'generic', 'machine', '-', 'generated', 'summaries', 'depending', 'on', 'what', 'the', 'user', 'needs', '.', '\\n', 'An', 'example', 'of', 'a', 'summarization', 'problem', 'is', 'document', 'summarization', ',', 'which', 'attempts', 'to', 'automatically', 'produce', 'an', 'abstract', 'from', 'a', 'given', 'document', '.', 'Sometimes', 'one', 'might', 'be', 'interested', 'in', 'generating', 'a', 'summary', 'from', 'a', 'single', 'source', 'document', ',', 'while', 'others', 'can', 'use', 'multiple', 'source', 'documents', '(', 'for', 'example', ',', 'a', 'cluster', 'of', 'articles', 'on', 'the', 'same', 'topic', ')', '.', 'This', 'problem', 'is', 'called', 'multi', '-', 'document', 'summarization', '.', 'A', 'related', 'application', 'is', 'summarizing', 'news', 'articles', '.', 'Imagine', 'a', 'system', ',', 'which', 'automatically', 'pulls', 'together', 'news', 'articles', 'on', 'a', 'given', 'topic', '(', 'from', 'the', 'web', ')', ',', 'and', 'concisely', 'represents', 'the', 'latest', 'news', 'as', 'a', 'summary', '.', '\\n', 'Image', 'collection', 'summarization', 'is', 'another', 'application', 'example', 'of', 'automatic', 'summarization', '.', 'It', 'consists', 'in', 'selecting', 'a', 'representative', 'set', 'of', 'images', 'from', 'a', 'larger', 'set', 'of', 'images.[3', ']', 'A', 'summary', 'in', 'this', 'context', 'is', 'useful', 'to', 'show', 'the', 'most', 'representative', 'images', 'of', 'results', 'in', 'an', 'image', 'collection', 'exploration', 'system', '.', 'Video', 'summarization', 'is', 'a', 'related', 'domain', ',', 'where', 'the', 'system', 'automatically', 'creates', 'a', 'trailer', 'of', 'a', 'long', 'video', '.', 'This', 'also', 'has', 'applications', 'in', 'consumer', 'or', 'personal', 'videos', ',', 'where', 'one', 'might', 'want', 'to', 'skip', 'the', 'boring', 'or', 'repetitive', 'actions', '.', 'Similarly', ',', 'in', 'surveillance', 'videos', ',', 'one', 'would', 'want', 'to', 'extract', 'important', 'and', 'suspicious', 'activity', ',', 'while', 'ignoring', 'all', 'the', 'boring', 'and', 'redundant', 'frames', 'captured', '.', '\\n']\n"
          ],
          "name": "stdout"
        }
      ]
    },
    {
      "cell_type": "code",
      "metadata": {
        "colab": {
          "base_uri": "https://localhost:8080/",
          "height": 35
        },
        "id": "RYvSgiBMQzA6",
        "outputId": "28961ea7-a37e-4dfd-c797-bc3a1b7b6151"
      },
      "source": [
        "punctuation = punctuation + '\\n'\r\n",
        "punctuation"
      ],
      "execution_count": 9,
      "outputs": [
        {
          "output_type": "execute_result",
          "data": {
            "application/vnd.google.colaboratory.intrinsic+json": {
              "type": "string"
            },
            "text/plain": [
              "'!\"#$%&\\'()*+,-./:;<=>?@[\\\\]^_`{|}~\\n'"
            ]
          },
          "metadata": {
            "tags": []
          },
          "execution_count": 9
        }
      ]
    },
    {
      "cell_type": "code",
      "metadata": {
        "colab": {
          "base_uri": "https://localhost:8080/"
        },
        "id": "uf1cub5aQ5IR",
        "outputId": "2be8c011-0ea4-467f-a8ae-7f3b3e0ad6dc"
      },
      "source": [
        "word_frequencies = {}\r\n",
        "for word in doc:\r\n",
        "    if word.text.lower() not in stopwords:\r\n",
        "        if word.text.lower() not in punctuation:\r\n",
        "            if word.text not in word_frequencies.keys():\r\n",
        "                word_frequencies[word.text] = 1\r\n",
        "            else:\r\n",
        "                word_frequencies[word.text] += 1\r\n",
        "                \r\n",
        "print(word_frequencies)"
      ],
      "execution_count": 10,
      "outputs": [
        {
          "output_type": "stream",
          "text": [
            "{'broadly': 1, 'types': 1, 'extractive': 1, 'summarization': 11, 'tasks': 1, 'depending': 2, 'program': 1, 'focuses': 2, 'generic': 3, 'obtaining': 1, 'summary': 4, 'abstract': 2, 'collection': 3, 'documents': 2, 'sets': 1, 'images': 3, 'videos': 3, 'news': 4, 'stories': 1, 'etc': 1, 'second': 1, 'query': 4, 'relevant': 2, 'called': 2, 'based': 1, 'summarizes': 1, 'objects': 1, 'specific': 1, 'Summarization': 1, 'systems': 1, 'able': 1, 'create': 1, 'text': 1, 'summaries': 2, 'machine': 1, 'generated': 1, 'user': 1, 'needs': 1, 'example': 3, 'problem': 2, 'document': 4, 'attempts': 1, 'automatically': 3, 'produce': 1, 'given': 2, 'interested': 1, 'generating': 1, 'single': 1, 'source': 2, 'use': 1, 'multiple': 1, 'cluster': 1, 'articles': 3, 'topic': 2, 'multi': 1, 'related': 2, 'application': 2, 'summarizing': 1, 'Imagine': 1, 'system': 3, 'pulls': 1, 'web': 1, 'concisely': 1, 'represents': 1, 'latest': 1, 'Image': 1, 'automatic': 1, 'consists': 1, 'selecting': 1, 'representative': 2, 'set': 2, 'larger': 1, 'images.[3': 1, 'context': 1, 'useful': 1, 'results': 1, 'image': 1, 'exploration': 1, 'Video': 1, 'domain': 1, 'creates': 1, 'trailer': 1, 'long': 1, 'video': 1, 'applications': 1, 'consumer': 1, 'personal': 1, 'want': 2, 'skip': 1, 'boring': 2, 'repetitive': 1, 'actions': 1, 'Similarly': 1, 'surveillance': 1, 'extract': 1, 'important': 1, 'suspicious': 1, 'activity': 1, 'ignoring': 1, 'redundant': 1, 'frames': 1, 'captured': 1}\n"
          ],
          "name": "stdout"
        }
      ]
    },
    {
      "cell_type": "code",
      "metadata": {
        "colab": {
          "base_uri": "https://localhost:8080/"
        },
        "id": "mFlsAKbyRBAQ",
        "outputId": "888dc012-0c54-4052-bbbc-2bd091a20a97"
      },
      "source": [
        "max_frequency = max(word_frequencies.values())\r\n",
        "max_frequency"
      ],
      "execution_count": 11,
      "outputs": [
        {
          "output_type": "execute_result",
          "data": {
            "text/plain": [
              "11"
            ]
          },
          "metadata": {
            "tags": []
          },
          "execution_count": 11
        }
      ]
    },
    {
      "cell_type": "code",
      "metadata": {
        "colab": {
          "base_uri": "https://localhost:8080/"
        },
        "id": "oY69pJusRGNL",
        "outputId": "8e3f73a2-4d13-46d1-de16-3493d56d1608"
      },
      "source": [
        "for word in word_frequencies.keys():\r\n",
        "    word_frequencies[word] = word_frequencies[word]/max_frequency\r\n",
        "\r\n",
        "print(word_frequencies)"
      ],
      "execution_count": 12,
      "outputs": [
        {
          "output_type": "stream",
          "text": [
            "{'broadly': 0.09090909090909091, 'types': 0.09090909090909091, 'extractive': 0.09090909090909091, 'summarization': 1.0, 'tasks': 0.09090909090909091, 'depending': 0.18181818181818182, 'program': 0.09090909090909091, 'focuses': 0.18181818181818182, 'generic': 0.2727272727272727, 'obtaining': 0.09090909090909091, 'summary': 0.36363636363636365, 'abstract': 0.18181818181818182, 'collection': 0.2727272727272727, 'documents': 0.18181818181818182, 'sets': 0.09090909090909091, 'images': 0.2727272727272727, 'videos': 0.2727272727272727, 'news': 0.36363636363636365, 'stories': 0.09090909090909091, 'etc': 0.09090909090909091, 'second': 0.09090909090909091, 'query': 0.36363636363636365, 'relevant': 0.18181818181818182, 'called': 0.18181818181818182, 'based': 0.09090909090909091, 'summarizes': 0.09090909090909091, 'objects': 0.09090909090909091, 'specific': 0.09090909090909091, 'Summarization': 0.09090909090909091, 'systems': 0.09090909090909091, 'able': 0.09090909090909091, 'create': 0.09090909090909091, 'text': 0.09090909090909091, 'summaries': 0.18181818181818182, 'machine': 0.09090909090909091, 'generated': 0.09090909090909091, 'user': 0.09090909090909091, 'needs': 0.09090909090909091, 'example': 0.2727272727272727, 'problem': 0.18181818181818182, 'document': 0.36363636363636365, 'attempts': 0.09090909090909091, 'automatically': 0.2727272727272727, 'produce': 0.09090909090909091, 'given': 0.18181818181818182, 'interested': 0.09090909090909091, 'generating': 0.09090909090909091, 'single': 0.09090909090909091, 'source': 0.18181818181818182, 'use': 0.09090909090909091, 'multiple': 0.09090909090909091, 'cluster': 0.09090909090909091, 'articles': 0.2727272727272727, 'topic': 0.18181818181818182, 'multi': 0.09090909090909091, 'related': 0.18181818181818182, 'application': 0.18181818181818182, 'summarizing': 0.09090909090909091, 'Imagine': 0.09090909090909091, 'system': 0.2727272727272727, 'pulls': 0.09090909090909091, 'web': 0.09090909090909091, 'concisely': 0.09090909090909091, 'represents': 0.09090909090909091, 'latest': 0.09090909090909091, 'Image': 0.09090909090909091, 'automatic': 0.09090909090909091, 'consists': 0.09090909090909091, 'selecting': 0.09090909090909091, 'representative': 0.18181818181818182, 'set': 0.18181818181818182, 'larger': 0.09090909090909091, 'images.[3': 0.09090909090909091, 'context': 0.09090909090909091, 'useful': 0.09090909090909091, 'results': 0.09090909090909091, 'image': 0.09090909090909091, 'exploration': 0.09090909090909091, 'Video': 0.09090909090909091, 'domain': 0.09090909090909091, 'creates': 0.09090909090909091, 'trailer': 0.09090909090909091, 'long': 0.09090909090909091, 'video': 0.09090909090909091, 'applications': 0.09090909090909091, 'consumer': 0.09090909090909091, 'personal': 0.09090909090909091, 'want': 0.18181818181818182, 'skip': 0.09090909090909091, 'boring': 0.18181818181818182, 'repetitive': 0.09090909090909091, 'actions': 0.09090909090909091, 'Similarly': 0.09090909090909091, 'surveillance': 0.09090909090909091, 'extract': 0.09090909090909091, 'important': 0.09090909090909091, 'suspicious': 0.09090909090909091, 'activity': 0.09090909090909091, 'ignoring': 0.09090909090909091, 'redundant': 0.09090909090909091, 'frames': 0.09090909090909091, 'captured': 0.09090909090909091}\n"
          ],
          "name": "stdout"
        }
      ]
    },
    {
      "cell_type": "code",
      "metadata": {
        "colab": {
          "base_uri": "https://localhost:8080/"
        },
        "id": "kn--RX_aRLKp",
        "outputId": "9585abac-671b-47c2-b8c2-abd83fd7d4ae"
      },
      "source": [
        "sentence_tokens = [sent for sent in doc.sents]\r\n",
        "print(sentence_tokens)"
      ],
      "execution_count": 13,
      "outputs": [
        {
          "output_type": "stream",
          "text": [
            "[\n",
            "There are broadly two types of extractive summarization tasks depending on what the summarization program focuses on., The first is generic summarization, which focuses on obtaining a generic summary or abstract of the collection (whether documents, or sets of images, or videos, news stories etc.)., The second is query relevant summarization, sometimes called query-based summarization, which summarizes objects specific to a query., Summarization systems are able to create both query relevant text summaries and generic machine-generated summaries depending on what the user needs.\n",
            ", An example of a summarization problem is document summarization, which attempts to automatically produce an abstract from a given document., Sometimes one might be interested in generating a summary from a single source document, while others can use multiple source documents (for example, a cluster of articles on the same topic)., This problem is called multi-document summarization., A related application is summarizing news articles., Imagine a system, which automatically pulls together news articles on a given topic (from the web), and concisely represents the latest news as a summary.\n",
            ", Image collection summarization is another application example of automatic summarization., It consists in selecting a representative set of images from a larger set of images.[3], A summary in this context is useful to show the most representative images of results in an image collection exploration system., Video summarization is a related domain, where the system automatically creates a trailer of a long video., This also has applications in consumer or personal videos, where one might want to skip the boring or repetitive actions., Similarly, in surveillance videos, one would want to extract important and suspicious activity, while ignoring all the boring and redundant frames captured.\n",
            "]\n"
          ],
          "name": "stdout"
        }
      ]
    },
    {
      "cell_type": "code",
      "metadata": {
        "colab": {
          "base_uri": "https://localhost:8080/"
        },
        "id": "4RH1xKGMRPe9",
        "outputId": "07246b5a-c04d-464d-c539-d334f985cf7d"
      },
      "source": [
        "sentence_scores = {}\r\n",
        "for sent in sentence_tokens:\r\n",
        "    for word in sent:\r\n",
        "        if word.text.lower() in word_frequencies.keys():\r\n",
        "            if sent not in sentence_scores.keys():\r\n",
        "                sentence_scores[sent] = word_frequencies[word.text.lower()]\r\n",
        "            else:\r\n",
        "                sentence_scores[sent] += word_frequencies[word.text.lower()]\r\n",
        "                \r\n",
        "sentence_scores"
      ],
      "execution_count": 14,
      "outputs": [
        {
          "output_type": "execute_result",
          "data": {
            "text/plain": [
              "{\n",
              " There are broadly two types of extractive summarization tasks depending on what the summarization program focuses on.: 2.818181818181818,\n",
              " The first is generic summarization, which focuses on obtaining a generic summary or abstract of the collection (whether documents, or sets of images, or videos, news stories etc.).: 3.9999999999999987,\n",
              " The second is query relevant summarization, sometimes called query-based summarization, which summarizes objects specific to a query.: 3.909090909090909,\n",
              " Summarization systems are able to create both query relevant text summaries and generic machine-generated summaries depending on what the user needs.: 3.09090909090909,\n",
              " An example of a summarization problem is document summarization, which attempts to automatically produce an abstract from a given document.: 3.9999999999999996,\n",
              " Sometimes one might be interested in generating a summary from a single source document, while others can use multiple source documents (for example, a cluster of articles on the same topic).: 2.545454545454545,\n",
              " This problem is called multi-document summarization.: 1.8181818181818183,\n",
              " A related application is summarizing news articles.: 1.0909090909090908,\n",
              " Imagine a system, which automatically pulls together news articles on a given topic (from the web), and concisely represents the latest news as a summary.: 2.727272727272727,\n",
              " Image collection summarization is another application example of automatic summarization.: 2.909090909090909,\n",
              " It consists in selecting a representative set of images from a larger set of images.[3]: 1.1818181818181817,\n",
              " A summary in this context is useful to show the most representative images of results in an image collection exploration system.: 1.818181818181818,\n",
              " Video summarization is a related domain, where the system automatically creates a trailer of a long video.: 2.2727272727272725,\n",
              " This also has applications in consumer or personal videos, where one might want to skip the boring or repetitive actions.: 1.1818181818181817,\n",
              " Similarly, in surveillance videos, one would want to extract important and suspicious activity, while ignoring all the boring and redundant frames captured.: 1.4545454545454544}"
            ]
          },
          "metadata": {
            "tags": []
          },
          "execution_count": 14
        }
      ]
    },
    {
      "cell_type": "code",
      "metadata": {
        "id": "9s_ac3jkRVjE"
      },
      "source": [
        "from heapq import nlargest"
      ],
      "execution_count": 15,
      "outputs": []
    },
    {
      "cell_type": "code",
      "metadata": {
        "colab": {
          "base_uri": "https://localhost:8080/"
        },
        "id": "cjjRpccORcDO",
        "outputId": "eeadcfb3-a3e9-4a5e-91e5-11d02d4df3bf"
      },
      "source": [
        "select_length = int(len(sentence_tokens)*0.3)\r\n",
        "select_length"
      ],
      "execution_count": 16,
      "outputs": [
        {
          "output_type": "execute_result",
          "data": {
            "text/plain": [
              "4"
            ]
          },
          "metadata": {
            "tags": []
          },
          "execution_count": 16
        }
      ]
    },
    {
      "cell_type": "code",
      "metadata": {
        "colab": {
          "base_uri": "https://localhost:8080/"
        },
        "id": "7KtGn4_xRgXQ",
        "outputId": "3c6eb7bb-ec16-422b-88ac-06011f10d449"
      },
      "source": [
        "summary = nlargest(select_length, sentence_scores, key = sentence_scores.get)\r\n",
        "summary"
      ],
      "execution_count": 17,
      "outputs": [
        {
          "output_type": "execute_result",
          "data": {
            "text/plain": [
              "[An example of a summarization problem is document summarization, which attempts to automatically produce an abstract from a given document.,\n",
              " The first is generic summarization, which focuses on obtaining a generic summary or abstract of the collection (whether documents, or sets of images, or videos, news stories etc.).,\n",
              " The second is query relevant summarization, sometimes called query-based summarization, which summarizes objects specific to a query.,\n",
              " Summarization systems are able to create both query relevant text summaries and generic machine-generated summaries depending on what the user needs.]"
            ]
          },
          "metadata": {
            "tags": []
          },
          "execution_count": 17
        }
      ]
    },
    {
      "cell_type": "code",
      "metadata": {
        "id": "57o-y92vRn4O"
      },
      "source": [
        "final_summary = [word.text for word in summary]\r\n",
        "summary = ' '.join(final_summary)"
      ],
      "execution_count": 18,
      "outputs": []
    },
    {
      "cell_type": "code",
      "metadata": {
        "colab": {
          "base_uri": "https://localhost:8080/"
        },
        "id": "RSN1Jaa9RunY",
        "outputId": "9d1156d4-ad39-4b7d-fc56-28d189fe0917"
      },
      "source": [
        "print(summary)"
      ],
      "execution_count": 19,
      "outputs": [
        {
          "output_type": "stream",
          "text": [
            "An example of a summarization problem is document summarization, which attempts to automatically produce an abstract from a given document. The first is generic summarization, which focuses on obtaining a generic summary or abstract of the collection (whether documents, or sets of images, or videos, news stories etc.). The second is query relevant summarization, sometimes called query-based summarization, which summarizes objects specific to a query. Summarization systems are able to create both query relevant text summaries and generic machine-generated summaries depending on what the user needs.\n",
            "\n"
          ],
          "name": "stdout"
        }
      ]
    },
    {
      "cell_type": "code",
      "metadata": {
        "colab": {
          "base_uri": "https://localhost:8080/"
        },
        "id": "TOmK22o4RykY",
        "outputId": "61a65555-d48a-4fb4-8e16-a291db36201a"
      },
      "source": [
        "len(text)"
      ],
      "execution_count": 20,
      "outputs": [
        {
          "output_type": "execute_result",
          "data": {
            "text/plain": [
              "1869"
            ]
          },
          "metadata": {
            "tags": []
          },
          "execution_count": 20
        }
      ]
    },
    {
      "cell_type": "code",
      "metadata": {
        "colab": {
          "base_uri": "https://localhost:8080/"
        },
        "id": "NFomrvoGR1x6",
        "outputId": "d7425158-c1a2-48c4-85a3-fd9d90c45e15"
      },
      "source": [
        "len(summary)"
      ],
      "execution_count": 21,
      "outputs": [
        {
          "output_type": "execute_result",
          "data": {
            "text/plain": [
              "605"
            ]
          },
          "metadata": {
            "tags": []
          },
          "execution_count": 21
        }
      ]
    },
    {
      "cell_type": "code",
      "metadata": {
        "id": "cnVodXsAR4Mq"
      },
      "source": [
        ""
      ],
      "execution_count": null,
      "outputs": []
    }
  ]
}